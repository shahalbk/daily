{
 "cells": [
  {
   "cell_type": "code",
   "execution_count": null,
   "id": "13d483c4",
   "metadata": {},
   "outputs": [
    {
     "name": "stdout",
     "output_type": "stream",
     "text": [
      "my name is jose, i am 1 old..\n"
     ]
    }
   ],
   "source": [
    "#its for just print your name and age.\n",
    "name = input(\"enter your name:\")\n",
    "age = int(input(\"enter your age:\"))\n",
    "print(f\"my name is {name}, i am {age} year old..\")"
   ]
  },
  {
   "cell_type": "code",
   "execution_count": 11,
   "id": "6e4dc71c",
   "metadata": {},
   "outputs": [
    {
     "name": "stdout",
     "output_type": "stream",
     "text": [
      "3\n",
      "-1\n",
      "2\n",
      "0.5\n"
     ]
    }
   ],
   "source": [
    "a = int(input(\"enter a numbers\"))\n",
    "b =int(input(\"enter a number:\"))\n",
    "print(a+b)\n",
    "print(a-b)\n",
    "print(a*b)\n",
    "print(a/b)"
   ]
  },
  {
   "cell_type": "code",
   "execution_count": null,
   "id": "0ea82b47",
   "metadata": {},
   "outputs": [
    {
     "name": "stdout",
     "output_type": "stream",
     "text": [
      "i am now live onkochi and my hobby is meditation and my dream job is sleep\n"
     ]
    }
   ],
   "source": [
    "city =input(\"enter your city:\")\n",
    "hobby=input(\"enter your hobby:\")\n",
    "dream_job=input(\"enter your dream job\")\n",
    "print(f\"i am now live on {city} and my hobby is {hobby} and my dream job is {dream_job}\")"
   ]
  },
  {
   "cell_type": "code",
   "execution_count": 16,
   "id": "75046ed3",
   "metadata": {},
   "outputs": [
    {
     "name": "stdout",
     "output_type": "stream",
     "text": [
      "hello sh,you will be 100 years old at the year 2105\n"
     ]
    }
   ],
   "source": [
    "name = input(\"enter your name:\")\n",
    "age = int(input(\"enter your age\"))\n",
    "print(f\"hello {name},you will be 100 years old at the year {2125-age}\")"
   ]
  },
  {
   "cell_type": "code",
   "execution_count": null,
   "id": "ff4b2d30",
   "metadata": {},
   "outputs": [
    {
     "name": "stdout",
     "output_type": "stream",
     "text": [
      "hello sha,you will be 100 years old at the year 2105\n"
     ]
    }
   ],
   "source": [
    "year =2025\n",
    "name = input(\"enter your name:\")\n",
    "age = int(input(\"enter your age\"))\n",
    "hun = (100-age)+year\n",
    "print(f\"hello {name},you will be 100 years old at the year {hun}\")"
   ]
  },
  {
   "cell_type": "code",
   "execution_count": null,
   "id": "5e79ba1d",
   "metadata": {},
   "outputs": [
    {
     "name": "stdout",
     "output_type": "stream",
     "text": [
      "hello sha,you will be 100 years old at the year 2105\n"
     ]
    }
   ],
   "source": [
    "#automated\n",
    "import datetime as d\n",
    "year =d.date.today().year\n",
    "name = input(\"enter your name:\")\n",
    "age = int(input(\"enter your age\"))\n",
    "hun = (100-age)+year\n",
    "print(f\"hello {name},you will be 100 years old at the year {hun}\")"
   ]
  }
 ],
 "metadata": {
  "kernelspec": {
   "display_name": "Python 3",
   "language": "python",
   "name": "python3"
  },
  "language_info": {
   "codemirror_mode": {
    "name": "ipython",
    "version": 3
   },
   "file_extension": ".py",
   "mimetype": "text/x-python",
   "name": "python",
   "nbconvert_exporter": "python",
   "pygments_lexer": "ipython3",
   "version": "3.11.9"
  }
 },
 "nbformat": 4,
 "nbformat_minor": 5
}
