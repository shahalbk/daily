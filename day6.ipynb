{
 "cells": [
  {
   "cell_type": "code",
   "execution_count": 4,
   "id": "29d3c00a",
   "metadata": {},
   "outputs": [
    {
     "name": "stdout",
     "output_type": "stream",
     "text": [
      "0\n",
      "1\n",
      "2\n",
      "3\n",
      "abc\n"
     ]
    }
   ],
   "source": [
    "l = [0,1,2,3,\"abc\"]\n",
    "for i in l:\n",
    "        print(i)"
   ]
  },
  {
   "cell_type": "code",
   "execution_count": 11,
   "id": "f4cfdcfd",
   "metadata": {},
   "outputs": [
    {
     "name": "stdout",
     "output_type": "stream",
     "text": [
      "0\n",
      "1\n",
      "2\n",
      "3\n",
      "4\n"
     ]
    }
   ],
   "source": [
    "l  = [0,1,2,3,'abc']\n",
    "for i in range(len(l)):#its similar to give 5 in range\n",
    "    print(i)\n"
   ]
  },
  {
   "cell_type": "code",
   "execution_count": null,
   "id": "7c7219fd",
   "metadata": {},
   "outputs": [
    {
     "name": "stdout",
     "output_type": "stream",
     "text": [
      "sum is: 6\n"
     ]
    }
   ],
   "source": [
    "#printing a list of numbers using list\n",
    "\"\"\" \n",
    "    step 1:we taking how much numbers you want to put on the list\n",
    "    step 2:there is a colloction of data so we must use list like things\n",
    "    step 3:so to put these large data we must use loop\n",
    "    step 4:display what element you want to put \n",
    "    step 5:adding these elements to our list ,to add things to our list ,we use append fn ,and its return none so we not needed to create a variable to store it because list mutaable \n",
    "            so most of it function changing value from the object\n",
    "    step 6:a vaariable sum , we addd elements to it and each time values to it .\n",
    "    step 7:after this we print the sum outside .\n",
    "\"\"\"\n",
    "count =int(input(\"how many elements you want? \"))\n",
    "l=[]\n",
    "user =0\n",
    "sum=0\n",
    "for i in range(count):\n",
    "    user =int(input(f\"enter {i+1}st element:\"))\n",
    "    l.append(user)\n",
    "    sum+=user\n",
    "print(\"sum is:\",sum)\n"
   ]
  },
  {
   "cell_type": "code",
   "execution_count": 6,
   "id": "26ae8770",
   "metadata": {},
   "outputs": [
    {
     "name": "stdout",
     "output_type": "stream",
     "text": [
      "89\n"
     ]
    }
   ],
   "source": [
    "#find min and max , without using the min and max function.\n",
    "\"\"\"\n",
    "step 1: display how many numbers you want:\n",
    "step 2: we adding elements to our list\n",
    "step 3: find min\n",
    "step 3.1: we each number and compare with maximum elememnt we get from the list\n",
    "step 4: find max similar to min \n",
    "\"\"\"\n",
    "count = int(input(\"enter how many elements you want :\"))\n",
    "l=[]\n",
    "for i in range(count):\n",
    "    user = int(input(f\"enter elements to {i+1}th place:\"))\n",
    "    l.append(user)\n",
    "    max =l[0]\n",
    "for j in l:\n",
    "    \n",
    "    if j>max:\n",
    "        max =j\n",
    "\n",
    "print(max)\n",
    "  "
   ]
  },
  {
   "cell_type": "code",
   "execution_count": null,
   "id": "9d082c1e",
   "metadata": {},
   "outputs": [
    {
     "name": "stdout",
     "output_type": "stream",
     "text": [
      "77\n"
     ]
    }
   ],
   "source": [
    "#other method for max,i thing this method is efficient...i don't know ,its juust my intution ,so find time,space complexty of it.\n",
    "count = int(input(\"enter how manyelements you want in your list? \"))\n",
    "l =[]\n",
    "flag=0\n",
    "\n",
    "for i in range(count):\n",
    "    user = int(input(\"enter elemts in your list:\"))\n",
    "    l.append(user)\n",
    "    if flag==0:\n",
    "        max = l[0]\n",
    "    flag=1\n",
    "    if user>=max:\n",
    "        max=user\n",
    "        a=max\n",
    "print(a)\n",
    "\n"
   ]
  },
  {
   "cell_type": "code",
   "execution_count": 8,
   "id": "7857c9d8",
   "metadata": {},
   "outputs": [
    {
     "name": "stdout",
     "output_type": "stream",
     "text": [
      "33\n"
     ]
    }
   ],
   "source": [
    "#find min without min function.\n",
    "\"\"\" \n",
    "#element of list < current min\n",
    "\"\"\"\n",
    "\n",
    "l=[]\n",
    "n = int(input(\"enter how many numbers ,you want to insert on list? \"))\n",
    "for i in range(n):\n",
    "    user = int(input(f\"enter {i+1} element on the list:\"))\n",
    "    l.append(user)\n",
    "    min=l[0]\n",
    "    for j in l:\n",
    "        if j<min:\n",
    "            min=j\n",
    "\n",
    "print(min)\n"
   ]
  },
  {
   "cell_type": "code",
   "execution_count": null,
   "id": "59b88fad",
   "metadata": {},
   "outputs": [
    {
     "name": "stdout",
     "output_type": "stream",
     "text": [
      "3\n"
     ]
    }
   ],
   "source": [
    "l =[]\n",
    "n = int(input(\"enter ,how many numbers you want to put on the list:\"))\n",
    "flag=0\n",
    "for i in range(n):\n",
    "    user = int(input(\"enter element:\"))\n",
    "    l.append(user)\n",
    "    if flag==0:\n",
    "        min=l[0]\n",
    "        flag =1\n",
    "    if user<min:\n",
    "        min=user\n",
    "print(min)"
   ]
  },
  {
   "cell_type": "code",
   "execution_count": 17,
   "id": "571045ac",
   "metadata": {},
   "outputs": [
    {
     "name": "stdout",
     "output_type": "stream",
     "text": [
      "0\n"
     ]
    }
   ],
   "source": [
    "#other memor efficient way min   ,,,,you also do max version of this ...its your assignment next time.(30-8-25)\n",
    "n = int(input(\"enter how much element you want? \"))\n",
    "\n",
    "for i in range(n):\n",
    "    user = int(input(f\"enter {i+1} element:\"))\n",
    "\n",
    "    if i==0 or user<min :\n",
    "        min=user\n",
    "\n",
    "print(min)"
   ]
  },
  {
   "cell_type": "code",
   "execution_count": 4,
   "id": "585eb8e6",
   "metadata": {},
   "outputs": [
    {
     "name": "stdout",
     "output_type": "stream",
     "text": [
      "44\n"
     ]
    }
   ],
   "source": [
    "n = int(input(\"enter how many numbers store your list? \"))\n",
    "cur_lar = float('-inf')\n",
    "sec = float('-inf')\n",
    "\n",
    "for i in range(n):\n",
    "    user=int(input((\"enter elemet:\")))\n",
    "    if i==0 :\n",
    "        cur_lar = user\n",
    "    elif user >cur_lar:\n",
    "        sec = cur_lar\n",
    "        cur_lar=user\n",
    "    \n",
    "    elif user>sec and user<cur_lar:\n",
    "        sec = user\n",
    "            \n",
    "print(sec)\n"
   ]
  },
  {
   "cell_type": "code",
   "execution_count": 13,
   "id": "ac7a92b3",
   "metadata": {},
   "outputs": [
    {
     "name": "stdout",
     "output_type": "stream",
     "text": [
      "2\n"
     ]
    }
   ],
   "source": [
    "n = int(input(\"how many numbers you want to put in this calculation: \"))\n",
    "min1 = float('inf')\n",
    "for i in range(n):\n",
    "        user=int(input(\"enter elements:\"))\n",
    "        if user<min1:\n",
    "                sec =min1\n",
    "                min1 =user\n",
    "        elif user>min1 and user<sec:\n",
    "                sec=user\n",
    "print(sec)"
   ]
  },
  {
   "cell_type": "code",
   "execution_count": null,
   "id": "c46c3526",
   "metadata": {},
   "outputs": [],
   "source": [
    "#finding second largest from the list without using sort etc \n"
   ]
  }
 ],
 "metadata": {
  "kernelspec": {
   "display_name": "Python 3",
   "language": "python",
   "name": "python3"
  },
  "language_info": {
   "codemirror_mode": {
    "name": "ipython",
    "version": 3
   },
   "file_extension": ".py",
   "mimetype": "text/x-python",
   "name": "python",
   "nbconvert_exporter": "python",
   "pygments_lexer": "ipython3",
   "version": "3.11.9"
  }
 },
 "nbformat": 4,
 "nbformat_minor": 5
}
