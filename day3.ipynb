{
 "cells": [
  {
   "cell_type": "code",
   "execution_count": 3,
   "id": "e73b6285",
   "metadata": {},
   "outputs": [
    {
     "name": "stdout",
     "output_type": "stream",
     "text": [
      "9.0\n",
      "5.0\n",
      "14.0\n",
      "3.5\n",
      "3.0\n",
      "1.0\n",
      "49.0\n"
     ]
    }
   ],
   "source": [
    "a = float(input(\"enter a number:\"))\n",
    "b = float(input(\"enter a number:\"))\n",
    "\n",
    "print(a+b)\n",
    "print(a-b)\n",
    "print(a*b)\n",
    "print(a/b)\n",
    "print(a//b)\n",
    "print(a%b)\n",
    "print(a**b)"
   ]
  },
  {
   "cell_type": "code",
   "execution_count": 5,
   "id": "93f00401",
   "metadata": {},
   "outputs": [
    {
     "name": "stdout",
     "output_type": "stream",
     "text": [
      "you are eligible for voting...\n"
     ]
    }
   ],
   "source": [
    "age = int(input(\"enter a number:\"))\n",
    "if age >= 18:\n",
    "    print(\"you are eligible for voting...\")\n",
    "else:\n",
    "    print(\"sorry , you are very young \")"
   ]
  },
  {
   "cell_type": "code",
   "execution_count": 9,
   "id": "89ee6201",
   "metadata": {},
   "outputs": [
    {
     "name": "stdout",
     "output_type": "stream",
     "text": [
      "retest available.\n"
     ]
    }
   ],
   "source": [
    "math = int(input(\"enter your math mark::\"))\n",
    "eng = int (input(\"enter your english mark:\"))\n",
    "if math>=40 and eng>=40 :\n",
    "    print(\"test passed.\")\n",
    "elif 40>=math or 40>=eng:\n",
    "    print(\"retest available.\")\n",
    "else:\n",
    "    print(\"filed.\")"
   ]
  }
 ],
 "metadata": {
  "kernelspec": {
   "display_name": "Python 3",
   "language": "python",
   "name": "python3"
  },
  "language_info": {
   "codemirror_mode": {
    "name": "ipython",
    "version": 3
   },
   "file_extension": ".py",
   "mimetype": "text/x-python",
   "name": "python",
   "nbconvert_exporter": "python",
   "pygments_lexer": "ipython3",
   "version": "3.11.9"
  }
 },
 "nbformat": 4,
 "nbformat_minor": 5
}
