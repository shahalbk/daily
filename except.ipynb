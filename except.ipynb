{
 "cells": [
  {
   "cell_type": "code",
   "execution_count": 3,
   "id": "61797ccd",
   "metadata": {},
   "outputs": [
    {
     "ename": "NameError",
     "evalue": "name 'a' is not defined",
     "output_type": "error",
     "traceback": [
      "\u001b[31m---------------------------------------------------------------------------\u001b[39m",
      "\u001b[31mNameError\u001b[39m                                 Traceback (most recent call last)",
      "\u001b[36mCell\u001b[39m\u001b[36m \u001b[39m\u001b[32mIn[3]\u001b[39m\u001b[32m, line 5\u001b[39m\n\u001b[32m      2\u001b[39m \u001b[38;5;28;01mdef\u001b[39;00m\u001b[38;5;250m \u001b[39m\u001b[34mfn\u001b[39m():\n\u001b[32m      3\u001b[39m     a=\u001b[32m4\u001b[39m\n\u001b[32m----> \u001b[39m\u001b[32m5\u001b[39m \u001b[38;5;28mprint\u001b[39m(\u001b[43ma\u001b[49m)\n",
      "\u001b[31mNameError\u001b[39m: name 'a' is not defined"
     ]
    }
   ],
   "source": [
    "#local variable\n",
    "def fn():\n",
    "    a=4\n",
    "\n",
    "print(a)"
   ]
  },
  {
   "cell_type": "code",
   "execution_count": 19,
   "id": "526dd3aa",
   "metadata": {},
   "outputs": [
    {
     "name": "stdout",
     "output_type": "stream",
     "text": [
      "5\n"
     ]
    }
   ],
   "source": [
    "class a:\n",
    "    def __init__(self,a,b):\n",
    "        self.a =a \n",
    "        self.b =b\n",
    "        \n",
    "    def add(self):\n",
    "        return self.a+self.b\n",
    "    \n",
    "obj =a(2,3)\n",
    "print(obj.add())\n"
   ]
  },
  {
   "cell_type": "code",
   "execution_count": 30,
   "id": "177d1ba2",
   "metadata": {},
   "outputs": [
    {
     "name": "stdout",
     "output_type": "stream",
     "text": [
      "the model name is baleno and year is 2025 , price is 100000\n",
      "baleno\n",
      "the model name is swift and year is 2014 , price is 700000\n"
     ]
    }
   ],
   "source": [
    "class car:\n",
    "    def __init__(self,modelname,year,price):\n",
    "        self.modelname =modelname\n",
    "        self.year = year\n",
    "        self.price = price\n",
    "\n",
    "    def p(self):\n",
    "        print(f\"the model name is {self.modelname} and year is {self.year} , price is {self.price}\")\n",
    "obj = car(\"baleno\",2025,100000)\n",
    "obj.p()\n",
    "print(obj.modelname)\n",
    "obj2 = car(\"swift\",2014,700000)\n",
    "obj2.p()"
   ]
  },
  {
   "cell_type": "code",
   "execution_count": null,
   "id": "07ea3455",
   "metadata": {},
   "outputs": [
    {
     "name": "stdout",
     "output_type": "stream",
     "text": [
      "name is sha my age is 20 , my mark is 100\n",
      "name is abc my age is 25 , my mark is 1001\n"
     ]
    }
   ],
   "source": [
    "class student:\n",
    "    def __init__(self,name,mark,age):\n",
    "        self.name = name\n",
    "        self.__mark = mark\n",
    "        self._age = age\n",
    "    def p(self):\n",
    "        self.name =\"sha\"\n",
    "        self._age =20\n",
    "        self.__mark =100\n",
    "        print(f\"name is {self.name} my age is {self._age} , my mark is {self.__mark}\")\n",
    "\n",
    "class cs(student):\n",
    "    def a(self):\n",
    "        self.name =\"abc\"\n",
    "        self._age =25\n",
    "        self.__mark =1001#here creating new variable\n",
    "        print(f\"name is {self.name} my age is {self._age} , my mark is {self.__mark}\")\n",
    "\n",
    "objs = student(\"siddharth\",188,18)\n",
    "objs.p()\n",
    "objcs = cs(\"naheem\",180,27)\n",
    "objcs.a()"
   ]
  },
  {
   "cell_type": "code",
   "execution_count": null,
   "id": "6e4f8d1f",
   "metadata": {},
   "outputs": [
    {
     "data": {
      "text/plain": [
       "36"
      ]
     },
     "execution_count": 35,
     "metadata": {},
     "output_type": "execute_result"
    }
   ],
   "source": [
    "from abc import ABC,abstractmethod\n",
    "\n",
    "class base(ABC):\n",
    "    def __init__(self,a):#you can also put the init on child class no problem buddy!\n",
    "        self.a =a \n",
    "    @abstractmethod\n",
    "    def s(self):\n",
    "        pass\n",
    "\n",
    "class square(base):\n",
    "    \n",
    "\n",
    "    def s(self):\n",
    "        return self.a*self.a\n",
    "\n",
    "obj = square(6)\n",
    "obj.s()\n"
   ]
  },
  {
   "cell_type": "code",
   "execution_count": null,
   "id": "41aa0837",
   "metadata": {},
   "outputs": [
    {
     "name": "stdout",
     "output_type": "stream",
     "text": [
      " employee name is sha ,age 21,his role is developer,exp 2\n"
     ]
    }
   ],
   "source": [
    "class base:\n",
    "   def __init__(self,name,age,role,experience):\n",
    "      self.name = name\n",
    "      self.age = age\n",
    "      self.role = role\n",
    "      self.experience = experience\n",
    "\n",
    "class employee(base):\n",
    "   def p(self):\n",
    "      print(f\" employee name is {self.name} ,age {self.age},his role is {self.role},exp {self.experience}\")\n",
    "\n",
    "obj = employee(\"sha\",21,\"developer\",2)\n",
    "obj.p()\n"
   ]
  },
  {
   "cell_type": "code",
   "execution_count": 57,
   "id": "5eab9d11",
   "metadata": {},
   "outputs": [
    {
     "name": "stdout",
     "output_type": "stream",
     "text": [
      " employee name is 30000 ,he is a developer, his salry is  java, programming language is sha\n",
      " employee name is 100 ,he is a manager, his salry is  100000, teamsize is shahell\n"
     ]
    }
   ],
   "source": [
    "class base:\n",
    "   def __init__(self,name,salary):\n",
    "      self.name = name\n",
    "      self.salary = salary\n",
    "      \n",
    "\n",
    "class developer(base):\n",
    "   def __init__(self,language,name,salary):\n",
    "      super().__init__(name,salary)\n",
    "      self.language = language \n",
    "\n",
    "   def show_details(self):\n",
    "      print(f\" employee name is {self.name} ,he is a developer, his salry is  {self.salary}, programming language is {self.language}\")\n",
    "\n",
    "class manager(base):\n",
    "   def __init__(self,teamsize,salary,name):\n",
    "      super().__init__(name,salary)\n",
    "      self.teamsize = teamsize\n",
    "      \n",
    "    \n",
    "   def show_details(self):\n",
    "            print(f\" employee name is {self.name} ,he is a manager, his salry is  {self.salary}, teamsize is {self.teamsize}\")\n",
    "\n",
    "      \n",
    "      \n",
    "objd =developer(\"sha\",30000,\"java\")\n",
    "objm =manager(\"shahell\",100000,100)\n",
    "\n",
    "objd.show_details()\n",
    "objm.show_details()"
   ]
  },
  {
   "cell_type": "code",
   "execution_count": 90,
   "id": "0440101c",
   "metadata": {},
   "outputs": [
    {
     "data": {
      "text/plain": [
       "10975"
      ]
     },
     "execution_count": 90,
     "metadata": {},
     "output_type": "execute_result"
    }
   ],
   "source": [
    "class bank:\n",
    "    def __init__(self,name,balance=0):\n",
    "        self.name = name \n",
    "        self.balance = balance\n",
    "\n",
    "\n",
    "    def deposit(self,amount):\n",
    "        self.amount =amount\n",
    "        self.balance+=self.amount\n",
    "    \n",
    "    def check(self):\n",
    "        return self.balance\n",
    "\n",
    "    \n",
    "    def withdraw(self,amount):\n",
    "        if self.balance > amount:\n",
    "            self.balance-=amount\n",
    "        else:\n",
    "            print(\"insufficient balance.\")\n",
    "   \n",
    "\n",
    "per1 =bank(\"sha\",10000)\n",
    "per1.deposit(1000)\n",
    "per1.check()\n",
    "per1.withdraw(25)\n",
    "per1.check()"
   ]
  }
 ],
 "metadata": {
  "kernelspec": {
   "display_name": "Python 3",
   "language": "python",
   "name": "python3"
  },
  "language_info": {
   "codemirror_mode": {
    "name": "ipython",
    "version": 3
   },
   "file_extension": ".py",
   "mimetype": "text/x-python",
   "name": "python",
   "nbconvert_exporter": "python",
   "pygments_lexer": "ipython3",
   "version": "3.11.9"
  }
 },
 "nbformat": 4,
 "nbformat_minor": 5
}
