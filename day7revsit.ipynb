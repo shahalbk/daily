{
 "cells": [
  {
   "cell_type": "code",
   "execution_count": 30,
   "id": "6442750a",
   "metadata": {},
   "outputs": [
    {
     "name": "stdout",
     "output_type": "stream",
     "text": [
      "its a palidrome.\n"
     ]
    }
   ],
   "source": [
    "#palidrome method one.\n",
    "string = \"aba\"\n",
    "if string[:]==string[::-1]:\n",
    "    print(\"its a palidrome.\")\n",
    "else:\n",
    "    print(\"its not a palidrome.\")"
   ]
  },
  {
   "cell_type": "code",
   "execution_count": 45,
   "id": "ea1fca20",
   "metadata": {},
   "outputs": [
    {
     "name": "stdout",
     "output_type": "stream",
     "text": [
      "3\n"
     ]
    }
   ],
   "source": [
    "l =[1,2,3,4]\n",
    "maximum = float('-inf')\n",
    "sec =None\n",
    "for i in l:\n",
    "    if maximum <i:\n",
    "        sec = maximum\n",
    "        maximum =i\n",
    "        \n",
    "    elif sec <i and maximum>i:\n",
    "         sec =i\n",
    "        \n",
    "print(sec)\n",
    "\n"
   ]
  }
 ],
 "metadata": {
  "kernelspec": {
   "display_name": "Python 3",
   "language": "python",
   "name": "python3"
  },
  "language_info": {
   "codemirror_mode": {
    "name": "ipython",
    "version": 3
   },
   "file_extension": ".py",
   "mimetype": "text/x-python",
   "name": "python",
   "nbconvert_exporter": "python",
   "pygments_lexer": "ipython3",
   "version": "3.11.9"
  }
 },
 "nbformat": 4,
 "nbformat_minor": 5
}
