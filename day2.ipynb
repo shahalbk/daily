{
 "cells": [
  {
   "cell_type": "code",
   "execution_count": 2,
   "id": "99fdfc23",
   "metadata": {},
   "outputs": [
    {
     "name": "stdout",
     "output_type": "stream",
     "text": [
      "<class 'str'>\n",
      "<class 'int'>\n",
      "<class 'bool'>\n",
      "<class 'float'>\n"
     ]
    }
   ],
   "source": [
    "name =\"wyne\"\n",
    "age =27\n",
    "is_student =False\n",
    "height =176.54\n",
    "print(type(name))\n",
    "print(type(age))\n",
    "print(type(is_student))\n",
    "print(type(height))"
   ]
  },
  {
   "cell_type": "code",
   "execution_count": 5,
   "id": "52a6d971",
   "metadata": {},
   "outputs": [
    {
     "name": "stdout",
     "output_type": "stream",
     "text": [
      "<class 'str'>\n",
      "<class 'int'>\n",
      "<class 'float'>\n"
     ]
    }
   ],
   "source": [
    "a = input(\"enter a number:\")\n",
    "print(type(a))\n",
    "a =int(a)\n",
    "print(type(a))\n",
    "a =float(a)\n",
    "print(type(a))"
   ]
  },
  {
   "cell_type": "code",
   "execution_count": 7,
   "id": "fc712f40",
   "metadata": {},
   "outputs": [
    {
     "name": "stdout",
     "output_type": "stream",
     "text": [
      "<class 'str'>\n",
      "<class 'int'>\n",
      "<class 'float'>\n"
     ]
    }
   ],
   "source": [
    "a = input(\"enter a number:\")\n",
    "print(type(a))\n",
    "a =int(a)\n",
    "print(type(a))\n",
    "a =float(a)\n",
    "print(type(a))"
   ]
  },
  {
   "cell_type": "code",
   "execution_count": 10,
   "id": "49e9f7f1",
   "metadata": {},
   "outputs": [
    {
     "name": "stdout",
     "output_type": "stream",
     "text": [
      "hey,dh after 5 years your age is 28\n"
     ]
    }
   ],
   "source": [
    "a = input(\"enter your name:\")\n",
    "age =int(input(\"enter your age:\"))\n",
    "print(f\"hey,{a} after 5 years your age is {age+5}\")"
   ]
  }
 ],
 "metadata": {
  "kernelspec": {
   "display_name": "Python 3",
   "language": "python",
   "name": "python3"
  },
  "language_info": {
   "codemirror_mode": {
    "name": "ipython",
    "version": 3
   },
   "file_extension": ".py",
   "mimetype": "text/x-python",
   "name": "python",
   "nbconvert_exporter": "python",
   "pygments_lexer": "ipython3",
   "version": "3.11.9"
  }
 },
 "nbformat": 4,
 "nbformat_minor": 5
}
