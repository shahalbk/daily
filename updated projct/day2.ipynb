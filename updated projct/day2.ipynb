{
 "cells": [
  {
   "cell_type": "code",
   "execution_count": 2,
   "id": "c6d307ba",
   "metadata": {},
   "outputs": [
    {
     "name": "stdout",
     "output_type": "stream",
     "text": [
      "4\n"
     ]
    }
   ],
   "source": [
    "a =[1,2,3,4]\n",
    "b = len(a)\n",
    "print(a[b-1])"
   ]
  },
  {
   "cell_type": "code",
   "execution_count": 1,
   "id": "c093405f",
   "metadata": {},
   "outputs": [
    {
     "name": "stdout",
     "output_type": "stream",
     "text": [
      "[10, 25]\n"
     ]
    }
   ],
   "source": [
    "nums = [5,10,15,20,25,30,35]\n",
    "nums2 = nums[1::3]\n",
    "print(nums2)"
   ]
  },
  {
   "cell_type": "code",
   "execution_count": null,
   "id": "bcc702f1",
   "metadata": {},
   "outputs": [
    {
     "name": "stdout",
     "output_type": "stream",
     "text": [
      "['f', 'd', 'b']\n"
     ]
    }
   ],
   "source": [
    "letter = ['a','b','c','d','e','f','g']\n",
    "letter2 = letter[-1:-4:-1]\n",
    "print(letter2)"
   ]
  },
  {
   "cell_type": "code",
   "execution_count": 11,
   "id": "fe601bb3",
   "metadata": {},
   "outputs": [
    {
     "name": "stdout",
     "output_type": "stream",
     "text": [
      "['f', 'd', 'b']\n"
     ]
    }
   ],
   "source": [
    "#reverse jump\n",
    "letter = ['a','b','c','d','e','f','g']\n",
    "letter2 = letter[-2::-2]\n",
    "print(letter2)"
   ]
  },
  {
   "cell_type": "code",
   "execution_count": 17,
   "id": "00921fe7",
   "metadata": {},
   "outputs": [
    {
     "name": "stdout",
     "output_type": "stream",
     "text": [
      "17\n"
     ]
    }
   ],
   "source": [
    "#find second largest element in a list, without using max() or sort() function.\n",
    "list1 = [12,5,8,19,3,17]\n",
    "large = int(list1[0])\n",
    "second_large = float('-inf')\n",
    "for x in list1:\n",
    "    if large < x:\n",
    "        second_large = large\n",
    "        large = x\n",
    "    elif  second_large<x<large:\n",
    "        second_large = x\n",
    "\n",
    "\n",
    "print(second_large)   "
   ]
  },
  {
   "cell_type": "code",
   "execution_count": 28,
   "id": "efa878d3",
   "metadata": {},
   "outputs": [
    {
     "name": "stdout",
     "output_type": "stream",
     "text": [
      "12\n"
     ]
    }
   ],
   "source": [
    "#find third largest number in a list , without using max() or sort() function.\n",
    "base = [12,5,8,19,3,17]     #list creation\n",
    "\n",
    "#variable initialization.\n",
    "large = float('-inf')\n",
    "second = float('-inf')\n",
    "third = float('-inf')\n",
    "\n",
    "#we check each element.\n",
    "for x in base:\n",
    "    if large<x:\n",
    "        third =second\n",
    "        second =large\n",
    "        large = x\n",
    "\n",
    "    elif large>x>second:\n",
    "        third =second\n",
    "        second = x\n",
    "\n",
    "    elif second>x>third:\n",
    "        third =x\n",
    "\n",
    "print(third)"
   ]
  },
  {
   "cell_type": "code",
   "execution_count": null,
   "id": "41996760",
   "metadata": {},
   "outputs": [
    {
     "name": "stdout",
     "output_type": "stream",
     "text": [
      "yes!, i will cook for you...wait...\n",
      "[-inf]\n",
      "[-inf, -inf]\n",
      "[-inf, -inf, -inf]\n"
     ]
    }
   ],
   "source": [
    "#write a program to find kth largest number.\n",
    "#eg here we taking k as 4.\n",
    "base =[12,5,8,19,3,17]\n",
    "#you may first think that how many variables we need because if user select 10 th as k ,then are you create 10 variable ?haha crazy shit,so\n",
    "#these kind of situation we use data structures to hold these kind of huge data .\n",
    "top =[]\n",
    "length = len(base)\n",
    "user=int(input(\"enter which largest number you want? \"))\n",
    "if user > length:\n",
    "    print(\"invalid input.\") \n",
    "else:\n",
    "    print(\"yes!, i will cook for you...wait...\") \n",
    "    for i in range(0,user):\n",
    "        top.append(float('-inf'))\n",
    "        if "
   ]
  }
 ],
 "metadata": {
  "kernelspec": {
   "display_name": "Python 3",
   "language": "python",
   "name": "python3"
  },
  "language_info": {
   "codemirror_mode": {
    "name": "ipython",
    "version": 3
   },
   "file_extension": ".py",
   "mimetype": "text/x-python",
   "name": "python",
   "nbconvert_exporter": "python",
   "pygments_lexer": "ipython3",
   "version": "3.11.9"
  }
 },
 "nbformat": 4,
 "nbformat_minor": 5
}
