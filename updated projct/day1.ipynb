{
 "cells": [
  {
   "cell_type": "code",
   "execution_count": null,
   "id": "32c9abc5",
   "metadata": {},
   "outputs": [
    {
     "name": "stdout",
     "output_type": "stream",
     "text": [
      "shahal 25 176\n"
     ]
    }
   ],
   "source": [
    "#just printing name,age,height in a single line.\n",
    "name = \"shahal\"\n",
    "age =25\n",
    "height =176\n",
    "print(name,age,height)"
   ]
  },
  {
   "cell_type": "markdown",
   "id": "0609e8d9",
   "metadata": {},
   "source": [
    "# swapping using  different ways\n",
    "##\n",
    "Math swap (addition/subtraction, multiplication/division)\n",
    "→ Forces you to think in algebra.\n",
    "\n",
    "Bitwise swap (XOR)\n",
    "→ Builds binary intuition & low-level computer thinking.\n",
    "\n",
    "Python swap (tuple unpacking)\n",
    "→ Shows language-specific shortcuts.\n",
    "\n",
    "“Out of the box” thinking (like physics analogies, encryption-style tricks).\n",
    "→ Trains creativity."
   ]
  },
  {
   "cell_type": "code",
   "execution_count": null,
   "id": "e5546f4e",
   "metadata": {},
   "outputs": [
    {
     "name": "stdout",
     "output_type": "stream",
     "text": [
      "a is 20 and b is , 10\n"
     ]
    }
   ],
   "source": [
    "#swapping 2 numbers without using 3rd variable. using addition and subtraction way\n",
    "\n",
    "a = int(input(\"enter a number:\"))#i am here giving 10.\n",
    "b = int(input(\"enter a number:\"))#i am here giving 1 haha jk ,here giving 20.\n",
    "\n",
    "a = a+b     #30\n",
    "\n",
    "b = a-b     #10\n",
    "a = a-b     #20\n",
    "\n",
    "print(f\"a is {a} and b is {b}\")\n",
    "\n"
   ]
  },
  {
   "cell_type": "code",
   "execution_count": 18,
   "id": "7f787e95",
   "metadata": {},
   "outputs": [
    {
     "name": "stdout",
     "output_type": "stream",
     "text": [
      "a is  4 , b is 7\n"
     ]
    }
   ],
   "source": [
    "#variable initialization.\n",
    "a = 7\n",
    "b = 4\n",
    "\n",
    "\n",
    "#logic building\n",
    "a = a + b       #11\n",
    "\n",
    "\n",
    "#swapping.\n",
    "\n",
    "b = a - b       #7\n",
    "a = a - b       #4\n",
    "\n",
    "print(f\"a is  {a} , b is {b}\")"
   ]
  },
  {
   "cell_type": "code",
   "execution_count": null,
   "id": "6080b75f",
   "metadata": {},
   "outputs": [
    {
     "name": "stdout",
     "output_type": "stream",
     "text": [
      "after swapping a is 4 b is 7\n"
     ]
    }
   ],
   "source": [
    "\n",
    "a = 7\n",
    "b = 4\n",
    "\n",
    "#logic \n",
    "a = a*b     #28\n",
    "\n",
    "#swap , and we using floor division here for not get answers as float.\n",
    "b = a//b        #7\n",
    "a = a//b        #4\n",
    "\n",
    "#printing\n",
    "print(f\"after swapping a is {a} b is {b}\")"
   ]
  },
  {
   "cell_type": "markdown",
   "id": "74e04a9c",
   "metadata": {},
   "source": [
    "### swapping other method\n",
    "\n",
    "\n",
    "xor basics\n",
    "\n",
    "\n",
    "0 ⊕ 0 = 0\n",
    "\n",
    "0 ⊕ 1 = 1\n",
    "\n",
    "1 ⊕ 0 = 1\n",
    "\n",
    "1 ⊕ 1 = 0\n",
    "\n",
    "\n",
    "++++++++++\n",
    "\n",
    "XOR's Superpowers\n",
    "\n",
    "Self-canceling magic\n",
    "\n",
    "x ⊕ x = 0\n",
    "\n",
    "Example: 5 ⊕ 5 = 0\n",
    "👉 XOR can destroy its own copy.\n",
    "\n",
    "Resurrection spell\n",
    "\n",
    "x ⊕ 0 = x\n",
    "\n",
    "Example: 7 ⊕ 0 = 7\n",
    "👉 XOR doesn’t change when combined with 0.\n",
    "\n",
    "Double-cross Trick\n",
    "\n",
    "(a ⊕ b) ⊕ b = a\n",
    "\n",
    "Example: (9 ⊕ 4) ⊕ 4 = 9\n",
    "👉 XOR can hide and then reveal a number if you apply it again.\n",
    "\n",
    "Commutative & Associative\n",
    "\n",
    "a ⊕ b = b ⊕ a\n",
    "\n",
    "(a ⊕ b) ⊕ c = a ⊕ (b ⊕ c)\n",
    "👉 Order doesn’t matter.\n",
    "\n",
    "ractical notes (strengths & limits)\n",
    "\n",
    "✅ Works for integers (including negatives) — Python handles big ints so no overflow worries there.\n",
    "\n",
    "✅ No temporary variable needed.\n",
    "\n",
    "✅ Safe when a and b can be equal (still ends up correct).\n",
    "\n",
    "⚠️ Not for floats / strings / non-integer types (XOR is bitwise).\n",
    "\n",
    "⚠️ Less readable than a, b = b, a — in production/reading code prefer clarity (tuple-unpack).\n",
    "\n",
    "⚠️ In some tiny low-level contexts (aliasing / same memory address) be careful — but in normal Python it's safe."
   ]
  },
  {
   "cell_type": "code",
   "execution_count": 31,
   "id": "b383d768",
   "metadata": {},
   "outputs": [
    {
     "name": "stdout",
     "output_type": "stream",
     "text": [
      "a is 4 and b is 7\n"
     ]
    }
   ],
   "source": [
    "#swapping using  xor \n",
    "\n",
    "a = 7       #binary form is 0111\n",
    "b = 4       #binary form is 0100\n",
    "\n",
    "#logic\n",
    "a = a^b     #3 if you have any doubt then search : how to do xor operation on youtube.\n",
    "\n",
    "b = a^b     #because its double cross method\n",
    "a = a^b\n",
    "\n",
    "print(f\"a is {a} and b is {b}\")"
   ]
  },
  {
   "cell_type": "markdown",
   "id": "b4fbd5c2",
   "metadata": {},
   "source": [
    "# can you find a pattern??\n"
   ]
  },
  {
   "cell_type": "code",
   "execution_count": 24,
   "id": "7f6a7074",
   "metadata": {},
   "outputs": [
    {
     "name": "stdout",
     "output_type": "stream",
     "text": [
      "9\n",
      "3\n",
      "5\n"
     ]
    }
   ],
   "source": [
    "#extra challage swapping 3 values using xor , here swapping is a to b, b to c and c to a.\n",
    "\n",
    "\n",
    "#initial variable set up for this program.\n",
    "a = 5\n",
    "b = 9\n",
    "c = 3\n",
    "\n",
    "#logic\n",
    "a = a^b^c\n",
    "\n",
    "#swapping\n",
    "c = a^b^c\n",
    "b = a^b^c\n",
    "a =a^b^c\n",
    "print(a)\n",
    "print(b)\n",
    "print(c)\n",
    "\n"
   ]
  },
  {
   "cell_type": "code",
   "execution_count": 28,
   "id": "32411eec",
   "metadata": {},
   "outputs": [
    {
     "name": "stdout",
     "output_type": "stream",
     "text": [
      "2\n",
      "3\n",
      "4\n",
      "1\n"
     ]
    }
   ],
   "source": [
    "a = 1\n",
    "b = 2\n",
    "c = 3\n",
    "d = 4\n",
    "\n",
    "#logic \n",
    "a = a^b^c^d\n",
    "\n",
    "#swapping.\n",
    "\n",
    "d = a^b^c^d\n",
    "c = a^b^c^d\n",
    "b = a^b^c^d\n",
    "a = a^b^c^d\n",
    "\n",
    "print(a)\n",
    "print(b)\n",
    "print(c)\n",
    "print(d)"
   ]
  }
 ],
 "metadata": {
  "kernelspec": {
   "display_name": "Python 3",
   "language": "python",
   "name": "python3"
  },
  "language_info": {
   "codemirror_mode": {
    "name": "ipython",
    "version": 3
   },
   "file_extension": ".py",
   "mimetype": "text/x-python",
   "name": "python",
   "nbconvert_exporter": "python",
   "pygments_lexer": "ipython3",
   "version": "3.11.9"
  }
 },
 "nbformat": 4,
 "nbformat_minor": 5
}
