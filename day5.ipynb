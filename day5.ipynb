{
 "cells": [
  {
   "cell_type": "code",
   "execution_count": null,
   "id": "3b8043f9",
   "metadata": {},
   "outputs": [
    {
     "name": "stdout",
     "output_type": "stream",
     "text": [
      "k\n",
      "r\n",
      "6\n",
      "runnak\n"
     ]
    }
   ],
   "source": [
    "#reverse string.\n",
    "string = input(\"enter city:\")\n",
    "print(string[0])\n",
    "print(string[-1])\n",
    "print(len(string))\n",
    "print(string[::-1])"
   ]
  },
  {
   "cell_type": "code",
   "execution_count": 26,
   "id": "a39aaf98",
   "metadata": {},
   "outputs": [
    {
     "name": "stdout",
     "output_type": "stream",
     "text": [
      "its not a palidrome.\n"
     ]
    }
   ],
   "source": [
    "palidrome = input(\"enter anything...\")\n",
    "if (palidrome[::-1]) == (palidrome[:]) :\n",
    "        print(f\"{palidrome} is a palidrome.\")\n",
    "else:\n",
    "        print(\"its not a palidrome.\")"
   ]
  },
  {
   "cell_type": "code",
   "execution_count": 30,
   "id": "a64820e7",
   "metadata": {},
   "outputs": [
    {
     "name": "stdout",
     "output_type": "stream",
     "text": [
      "2\n",
      "HELL BOY\n",
      "hell-boy\n"
     ]
    }
   ],
   "source": [
    "sentence = input(\"enter a sentence:\")\n",
    "split = sentence.split(\" \")\n",
    "split=len(split)\n",
    "print(split)\n",
    "print(sentence.upper())\n",
    "print(sentence.replace(\" \",\"-\"))"
   ]
  }
 ],
 "metadata": {
  "kernelspec": {
   "display_name": "Python 3",
   "language": "python",
   "name": "python3"
  },
  "language_info": {
   "codemirror_mode": {
    "name": "ipython",
    "version": 3
   },
   "file_extension": ".py",
   "mimetype": "text/x-python",
   "name": "python",
   "nbconvert_exporter": "python",
   "pygments_lexer": "ipython3",
   "version": "3.11.9"
  }
 },
 "nbformat": 4,
 "nbformat_minor": 5
}
